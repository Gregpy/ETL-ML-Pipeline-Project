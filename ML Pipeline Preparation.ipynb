{
 "cells": [
  {
   "cell_type": "markdown",
   "metadata": {},
   "source": [
    "# ML Pipeline Preparation\n",
    "Follow the instructions below to help you create your ML pipeline.\n",
    "### 1. Import libraries and load data from database.\n",
    "- Import Python libraries\n",
    "- Load dataset from database with [`read_sql_table`](https://pandas.pydata.org/pandas-docs/stable/generated/pandas.read_sql_table.html)\n",
    "- Define feature and target variables X and Y"
   ]
  },
  {
   "cell_type": "code",
   "execution_count": 1,
   "metadata": {},
   "outputs": [
    {
     "name": "stdout",
     "output_type": "stream",
     "text": [
      "[nltk_data] Downloading package punkt to /root/nltk_data...\n",
      "[nltk_data]   Unzipping tokenizers/punkt.zip.\n",
      "[nltk_data] Downloading package wordnet to /root/nltk_data...\n",
      "[nltk_data]   Unzipping corpora/wordnet.zip.\n",
      "[nltk_data] Downloading package averaged_perceptron_tagger to\n",
      "[nltk_data]     /root/nltk_data...\n",
      "[nltk_data]   Unzipping taggers/averaged_perceptron_tagger.zip.\n"
     ]
    }
   ],
   "source": [
    "# import libraries\n",
    "import nltk\n",
    "nltk.download(['punkt', 'wordnet', 'averaged_perceptron_tagger'])\n",
    "import pickle\n",
    "import re\n",
    "import numpy as np\n",
    "import pandas as pd\n",
    "from nltk.tokenize import word_tokenize\n",
    "from nltk.stem import WordNetLemmatizer\n",
    "from sqlalchemy import create_engine\n",
    "from sklearn.metrics import confusion_matrix\n",
    "from sklearn.model_selection import GridSearchCV\n",
    "from sklearn.ensemble import RandomForestClassifier\n",
    "from sklearn.model_selection import train_test_split\n",
    "from sklearn.pipeline import Pipeline, FeatureUnion\n",
    "from sklearn.base import BaseEstimator, TransformerMixin\n",
    "from sklearn.feature_extraction.text import CountVectorizer, TfidfTransformer\n",
    "from sklearn.multioutput import MultiOutputClassifier\n",
    "from sklearn.metrics import classification_report, accuracy_score, precision_score, recall_score"
   ]
  },
  {
   "cell_type": "code",
   "execution_count": 1,
   "metadata": {},
   "outputs": [],
   "source": []
  },
  {
   "cell_type": "code",
   "execution_count": 12,
   "metadata": {},
   "outputs": [],
   "source": [
    "# load data from database\n",
    "engine = create_engine('sqlite:///InsertDatabaseName.db')\n",
    "df = pd.read_sql_table(table_name='InsertTableName', con= engine)\n",
    "X = df.message.values\n",
    "Y = df.iloc[:,4:].values \n",
    "\n"
   ]
  },
  {
   "cell_type": "code",
   "execution_count": 13,
   "metadata": {},
   "outputs": [],
   "source": [
    "category_names = df.columns"
   ]
  },
  {
   "cell_type": "code",
   "execution_count": 14,
   "metadata": {},
   "outputs": [
    {
     "data": {
      "text/plain": [
       "array(['Weather update - a cold front from Cuba that could pass over Haiti',\n",
       "       'Is the Hurricane over or is it not over',\n",
       "       'Looking for someone but no name', ...,\n",
       "       \"Proshika, operating in Cox's Bazar municipality and 5 other unions, Ramu and Chokoria, assessment, 5 kg rice, 1,5 kg lentils to 700 families.\",\n",
       "       'Some 2,000 women protesting against the conduct of the elections were teargassed as they tried to converge on the local electoral commission offices in the southern oil city of Port Harcourt.',\n",
       "       'A radical shift in thinking came about as a result of this meeting, recognizing that HIV/AIDS is at the core of the humanitarian crisis and identifying the crisis itself as a function of the HIV/AIDS pandemic.'], dtype=object)"
      ]
     },
     "execution_count": 14,
     "metadata": {},
     "output_type": "execute_result"
    }
   ],
   "source": [
    "X"
   ]
  },
  {
   "cell_type": "code",
   "execution_count": 20,
   "metadata": {},
   "outputs": [
    {
     "data": {
      "text/plain": [
       "array([1, 1, 0, 1, 0, 1, 0, 0, 0, 0, 0, 0, 0, 0, 0, 0, 0, 0, 1, 1, 0, 1, 0,\n",
       "       0, 1, 0, 0, 0, 0, 0, 0, 0, 0, 0, 0, 0])"
      ]
     },
     "execution_count": 20,
     "metadata": {},
     "output_type": "execute_result"
    }
   ],
   "source": [
    "Y[3]"
   ]
  },
  {
   "cell_type": "code",
   "execution_count": null,
   "metadata": {},
   "outputs": [],
   "source": []
  },
  {
   "cell_type": "markdown",
   "metadata": {},
   "source": [
    "### 2. Write a tokenization function to process your text data"
   ]
  },
  {
   "cell_type": "code",
   "execution_count": 5,
   "metadata": {},
   "outputs": [],
   "source": [
    "def tokenize(text):\n",
    "    \n",
    "    tokens = word_tokenize(text)\n",
    "    \n",
    "    lemmatizer = WordNetLemmatizer()\n",
    "       \n",
    "    clean_tokens = []\n",
    "    \n",
    "    for tok in tokens:\n",
    "        \n",
    "        clean_tok = lemmatizer.lemmatize(tok).lower().strip()\n",
    "        clean_tokens.append(clean_tok)\n",
    "\n",
    "    return clean_tokens"
   ]
  },
  {
   "cell_type": "code",
   "execution_count": null,
   "metadata": {},
   "outputs": [],
   "source": [
    "#tokenize(X[0])"
   ]
  },
  {
   "cell_type": "markdown",
   "metadata": {},
   "source": [
    "### 3. Build a machine learning pipeline\n",
    "This machine pipeline should take in the `message` column as input and output classification results on the other 36 categories in the dataset. You may find the [MultiOutputClassifier](http://scikit-learn.org/stable/modules/generated/sklearn.multioutput.MultiOutputClassifier.html) helpful for predicting multiple target variables."
   ]
  },
  {
   "cell_type": "code",
   "execution_count": 6,
   "metadata": {},
   "outputs": [],
   "source": [
    "pipeline = Pipeline([\n",
    "             ('features', FeatureUnion([\n",
    "\n",
    "            ('text_pipeline', Pipeline([\n",
    "                ('vect', CountVectorizer(tokenizer=tokenize)),\n",
    "                ('tfidf', TfidfTransformer())\n",
    "            ])), ])),\n",
    "    ('clf', MultiOutputClassifier(RandomForestClassifier()))\n",
    "])"
   ]
  },
  {
   "cell_type": "markdown",
   "metadata": {},
   "source": [
    "### 4. Train pipeline\n",
    "- Split data into train and test sets\n",
    "- Train pipeline"
   ]
  },
  {
   "cell_type": "code",
   "execution_count": 7,
   "metadata": {},
   "outputs": [
    {
     "data": {
      "text/plain": [
       "Pipeline(memory=None,\n",
       "     steps=[('features', FeatureUnion(n_jobs=1,\n",
       "       transformer_list=[('text_pipeline', Pipeline(memory=None,\n",
       "     steps=[('vect', CountVectorizer(analyzer='word', binary=False, decode_error='strict',\n",
       "        dtype=<class 'numpy.int64'>, encoding='utf-8', input='content',\n",
       "        lowercase=True, max_d...oob_score=False, random_state=None, verbose=0,\n",
       "            warm_start=False),\n",
       "           n_jobs=1))])"
      ]
     },
     "execution_count": 7,
     "metadata": {},
     "output_type": "execute_result"
    }
   ],
   "source": [
    "X_train, X_test, y_train, y_test = train_test_split(X, Y)\n",
    "\n",
    "pipeline.fit(X_train, y_train)"
   ]
  },
  {
   "cell_type": "markdown",
   "metadata": {},
   "source": [
    "### 5. Test your model\n",
    "Report the f1 score, precision and recall for each output category of the dataset. You can do this by iterating through the columns and calling sklearn's `classification_report` on each."
   ]
  },
  {
   "cell_type": "code",
   "execution_count": 8,
   "metadata": {},
   "outputs": [],
   "source": [
    "y_pred = pipeline.predict(X_test)"
   ]
  },
  {
   "cell_type": "code",
   "execution_count": null,
   "metadata": {},
   "outputs": [],
   "source": [
    "#y_test[0]"
   ]
  },
  {
   "cell_type": "code",
   "execution_count": null,
   "metadata": {},
   "outputs": [],
   "source": [
    "#print(classification_report(y_test[:,0],y_pred[:,0]))"
   ]
  },
  {
   "cell_type": "code",
   "execution_count": 15,
   "metadata": {},
   "outputs": [
    {
     "name": "stdout",
     "output_type": "stream",
     "text": [
      "Reports for id:\n",
      "              precision    recall  f1-score   support\n",
      "\n",
      "          0       0.60      0.34      0.43      1521\n",
      "          1       0.82      0.93      0.87      4991\n",
      "          2       0.52      0.26      0.35        42\n",
      "\n",
      "avg / total       0.77      0.79      0.77      6554\n",
      "\n",
      "Reports for message:\n",
      "              precision    recall  f1-score   support\n",
      "\n",
      "          0       0.88      0.98      0.93      5431\n",
      "          1       0.80      0.38      0.51      1123\n",
      "\n",
      "avg / total       0.87      0.88      0.86      6554\n",
      "\n",
      "Reports for original:\n",
      "              precision    recall  f1-score   support\n",
      "\n",
      "          0       0.99      1.00      1.00      6521\n",
      "          1       0.00      0.00      0.00        33\n",
      "\n",
      "avg / total       0.99      0.99      0.99      6554\n",
      "\n",
      "Reports for genre:\n",
      "              precision    recall  f1-score   support\n",
      "\n",
      "          0       0.73      0.87      0.80      3881\n",
      "          1       0.74      0.54      0.62      2673\n",
      "\n",
      "avg / total       0.74      0.74      0.73      6554\n",
      "\n",
      "Reports for related:\n",
      "              precision    recall  f1-score   support\n",
      "\n",
      "          0       0.93      1.00      0.96      6027\n",
      "          1       0.66      0.11      0.19       527\n",
      "\n",
      "avg / total       0.91      0.92      0.90      6554\n",
      "\n",
      "Reports for request:\n",
      "              precision    recall  f1-score   support\n",
      "\n",
      "          0       0.95      1.00      0.98      6225\n",
      "          1       0.74      0.07      0.13       329\n",
      "\n",
      "avg / total       0.94      0.95      0.93      6554\n",
      "\n",
      "Reports for offer:\n",
      "              precision    recall  f1-score   support\n",
      "\n",
      "          0       0.97      1.00      0.99      6385\n",
      "          1       0.00      0.00      0.00       169\n",
      "\n",
      "avg / total       0.95      0.97      0.96      6554\n",
      "\n",
      "Reports for aid_related:\n",
      "              precision    recall  f1-score   support\n",
      "\n",
      "          0       0.98      1.00      0.99      6447\n",
      "          1       0.00      0.00      0.00       107\n",
      "\n",
      "avg / total       0.97      0.98      0.98      6554\n",
      "\n",
      "Reports for medical_help:\n",
      "              precision    recall  f1-score   support\n",
      "\n",
      "          0       0.97      1.00      0.98      6350\n",
      "          1       0.65      0.07      0.13       204\n",
      "\n",
      "avg / total       0.96      0.97      0.96      6554\n",
      "\n",
      "Reports for medical_products:\n",
      "              precision    recall  f1-score   support\n",
      "\n",
      "          0       1.00      1.00      1.00      6554\n",
      "\n",
      "avg / total       1.00      1.00      1.00      6554\n",
      "\n",
      "Reports for search_and_rescue:\n",
      "              precision    recall  f1-score   support\n",
      "\n",
      "          0       0.95      1.00      0.97      6133\n",
      "          1       0.89      0.25      0.39       421\n",
      "\n",
      "avg / total       0.95      0.95      0.94      6554\n",
      "\n",
      "Reports for security:\n",
      "              precision    recall  f1-score   support\n",
      "\n",
      "          0       0.93      0.99      0.96      5840\n",
      "          1       0.84      0.43      0.57       714\n",
      "\n",
      "avg / total       0.92      0.93      0.92      6554\n",
      "\n",
      "Reports for military:\n",
      "              precision    recall  f1-score   support\n",
      "\n",
      "          0       0.93      1.00      0.96      5995\n",
      "          1       0.79      0.14      0.24       559\n",
      "\n",
      "avg / total       0.91      0.92      0.90      6554\n",
      "\n",
      "Reports for child_alone:\n",
      "              precision    recall  f1-score   support\n",
      "\n",
      "          0       0.99      1.00      0.99      6451\n",
      "          1       0.83      0.15      0.25       103\n",
      "\n",
      "avg / total       0.98      0.99      0.98      6554\n",
      "\n",
      "Reports for water:\n",
      "              precision    recall  f1-score   support\n",
      "\n",
      "          0       0.98      1.00      0.99      6404\n",
      "          1       0.80      0.05      0.10       150\n",
      "\n",
      "avg / total       0.97      0.98      0.97      6554\n",
      "\n",
      "Reports for food:\n",
      "              precision    recall  f1-score   support\n",
      "\n",
      "          0       0.99      1.00      0.99      6479\n",
      "          1       0.00      0.00      0.00        75\n",
      "\n",
      "avg / total       0.98      0.99      0.98      6554\n",
      "\n",
      "Reports for shelter:\n",
      "              precision    recall  f1-score   support\n",
      "\n",
      "          0       0.97      1.00      0.98      6354\n",
      "          1       0.50      0.03      0.05       200\n",
      "\n",
      "avg / total       0.96      0.97      0.96      6554\n",
      "\n",
      "Reports for clothing:\n",
      "              precision    recall  f1-score   support\n",
      "\n",
      "          0       0.96      1.00      0.98      6268\n",
      "          1       0.79      0.12      0.20       286\n",
      "\n",
      "avg / total       0.95      0.96      0.95      6554\n",
      "\n",
      "Reports for money:\n",
      "              precision    recall  f1-score   support\n",
      "\n",
      "          0       0.87      1.00      0.93      5698\n",
      "          1       0.66      0.04      0.08       856\n",
      "\n",
      "avg / total       0.85      0.87      0.82      6554\n",
      "\n",
      "Reports for missing_people:\n",
      "              precision    recall  f1-score   support\n",
      "\n",
      "          0       0.94      1.00      0.97      6144\n",
      "          1       0.33      0.00      0.00       410\n",
      "\n",
      "avg / total       0.90      0.94      0.91      6554\n",
      "\n",
      "Reports for refugees:\n",
      "              precision    recall  f1-score   support\n",
      "\n",
      "          0       0.96      1.00      0.98      6240\n",
      "          1       0.81      0.08      0.14       314\n",
      "\n",
      "avg / total       0.95      0.95      0.94      6554\n",
      "\n",
      "Reports for death:\n",
      "              precision    recall  f1-score   support\n",
      "\n",
      "          0       0.96      1.00      0.98      6228\n",
      "          1       0.71      0.11      0.19       326\n",
      "\n",
      "avg / total       0.94      0.95      0.94      6554\n",
      "\n",
      "Reports for other_aid:\n",
      "              precision    recall  f1-score   support\n",
      "\n",
      "          0       0.98      1.00      0.99      6412\n",
      "          1       0.80      0.06      0.11       142\n",
      "\n",
      "avg / total       0.98      0.98      0.97      6554\n",
      "\n",
      "Reports for infrastructure_related:\n",
      "              precision    recall  f1-score   support\n",
      "\n",
      "          0       0.99      1.00      1.00      6518\n",
      "          1       0.00      0.00      0.00        36\n",
      "\n",
      "avg / total       0.99      0.99      0.99      6554\n",
      "\n",
      "Reports for transport:\n",
      "              precision    recall  f1-score   support\n",
      "\n",
      "          0       0.99      1.00      0.99      6487\n",
      "          1       0.00      0.00      0.00        67\n",
      "\n",
      "avg / total       0.98      0.99      0.98      6554\n",
      "\n",
      "Reports for buildings:\n",
      "              precision    recall  f1-score   support\n",
      "\n",
      "          0       0.99      1.00      1.00      6520\n",
      "          1       0.00      0.00      0.00        34\n",
      "\n",
      "avg / total       0.99      0.99      0.99      6554\n",
      "\n",
      "Reports for electricity:\n",
      "              precision    recall  f1-score   support\n",
      "\n",
      "          0       0.99      1.00      0.99      6478\n",
      "          1       0.00      0.00      0.00        76\n",
      "\n",
      "avg / total       0.98      0.99      0.98      6554\n",
      "\n",
      "Reports for tools:\n",
      "              precision    recall  f1-score   support\n",
      "\n",
      "          0       0.96      1.00      0.98      6280\n",
      "          1       0.00      0.00      0.00       274\n",
      "\n",
      "avg / total       0.92      0.96      0.94      6554\n",
      "\n",
      "Reports for hospitals:\n",
      "              precision    recall  f1-score   support\n",
      "\n",
      "          0       0.84      0.95      0.89      4780\n",
      "          1       0.80      0.50      0.62      1774\n",
      "\n",
      "avg / total       0.83      0.83      0.82      6554\n",
      "\n",
      "Reports for shops:\n",
      "              precision    recall  f1-score   support\n",
      "\n",
      "          0       0.94      1.00      0.97      6032\n",
      "          1       0.90      0.30      0.45       522\n",
      "\n",
      "avg / total       0.94      0.94      0.93      6554\n",
      "\n",
      "Reports for aid_centers:\n",
      "              precision    recall  f1-score   support\n",
      "\n",
      "          0       0.94      0.99      0.96      5951\n",
      "          1       0.75      0.34      0.47       603\n",
      "\n",
      "avg / total       0.92      0.93      0.92      6554\n",
      "\n",
      "Reports for other_infrastructure:\n",
      "              precision    recall  f1-score   support\n",
      "\n",
      "          0       0.99      1.00      0.99      6483\n",
      "          1       0.00      0.00      0.00        71\n",
      "\n",
      "avg / total       0.98      0.99      0.98      6554\n",
      "\n",
      "Reports for weather_related:\n",
      "              precision    recall  f1-score   support\n",
      "\n",
      "          0       0.96      0.99      0.98      5962\n",
      "          1       0.88      0.62      0.73       592\n",
      "\n",
      "avg / total       0.96      0.96      0.96      6554\n",
      "\n",
      "Reports for floods:\n",
      "              precision    recall  f1-score   support\n",
      "\n",
      "          0       0.98      1.00      0.99      6438\n",
      "          1       0.59      0.14      0.22       116\n",
      "\n",
      "avg / total       0.98      0.98      0.98      6554\n",
      "\n",
      "Reports for storm:\n",
      "              precision    recall  f1-score   support\n",
      "\n",
      "          0       0.95      1.00      0.97      6206\n",
      "          1       0.67      0.03      0.06       348\n",
      "\n",
      "avg / total       0.93      0.95      0.92      6554\n",
      "\n",
      "Reports for fire:\n",
      "              precision    recall  f1-score   support\n",
      "\n",
      "          0       0.86      0.98      0.91      5290\n",
      "          1       0.78      0.31      0.44      1264\n",
      "\n",
      "avg / total       0.84      0.85      0.82      6554\n",
      "\n"
     ]
    },
    {
     "name": "stderr",
     "output_type": "stream",
     "text": [
      "/opt/conda/lib/python3.6/site-packages/sklearn/metrics/classification.py:1135: UndefinedMetricWarning: Precision and F-score are ill-defined and being set to 0.0 in labels with no predicted samples.\n",
      "  'precision', 'predicted', average, warn_for)\n"
     ]
    }
   ],
   "source": [
    "for i in range(len(y_test[0])):\n",
    "    print(\"Reports for {}:\\n {}\".format(category_names[i],classification_report(y_test[:,i],y_pred[:,i])))"
   ]
  },
  {
   "cell_type": "markdown",
   "metadata": {},
   "source": [
    "### 6. Improve your model\n",
    "Use grid search to find better parameters. "
   ]
  },
  {
   "cell_type": "code",
   "execution_count": null,
   "metadata": {},
   "outputs": [],
   "source": [
    "parameters = {'clf__estimator__n_estimators': [10, 20],\n",
    "                'clf__estimator__criterion' :['gini', 'entropy'],\n",
    "                'clf__estimator__max_depth' : [4,6],\n",
    "                'clf__estimator__max_features': ['auto', 'sqrt']\n",
    "                }\n",
    "\n",
    "cv = GridSearchCV(pipeline,param_grid=parameters)"
   ]
  },
  {
   "cell_type": "markdown",
   "metadata": {},
   "source": [
    "### 7. Test your model\n",
    "Show the accuracy, precision, and recall of the tuned model.  \n",
    "\n",
    "Since this project focuses on code quality, process, and  pipelines, there is no minimum performance metric needed to pass. However, make sure to fine tune your models for accuracy, precision and recall to make your project stand out - especially for your portfolio!"
   ]
  },
  {
   "cell_type": "code",
   "execution_count": null,
   "metadata": {},
   "outputs": [],
   "source": [
    "cv.fit(X_train, y_train)\n",
    "y_pred = cv.predict(X_test)"
   ]
  },
  {
   "cell_type": "code",
   "execution_count": null,
   "metadata": {},
   "outputs": [],
   "source": [
    "y_pred"
   ]
  },
  {
   "cell_type": "code",
   "execution_count": null,
   "metadata": {},
   "outputs": [],
   "source": [
    "for i in range(len(y_test[0])):\n",
    "    print(accuracy_score(y_test[:,i],y_pred[:,i]))\n",
    "    print(precision_score(y_test[:,i],y_pred[:,i], average = 'weighted'))\n",
    "    print(recall_score(y_test[:,i],y_pred[:,i], average='weighted'))"
   ]
  },
  {
   "cell_type": "markdown",
   "metadata": {},
   "source": [
    "### 8. Try improving your model further. Here are a few ideas:\n",
    "* try other machine learning algorithms\n",
    "* add other features besides the TF-IDF"
   ]
  },
  {
   "cell_type": "code",
   "execution_count": null,
   "metadata": {},
   "outputs": [],
   "source": [
    "cv.best_params_"
   ]
  },
  {
   "cell_type": "markdown",
   "metadata": {},
   "source": [
    "### 9. Export your model as a pickle file"
   ]
  },
  {
   "cell_type": "code",
   "execution_count": null,
   "metadata": {},
   "outputs": [],
   "source": [
    "cv_filename = 'cv_classifier.pkl'\n",
    "cv_pkl = open(cv_filename, 'wb')\n",
    "pickle.dump(cv, cv_pkl)\n",
    "cv_pkl.close()"
   ]
  },
  {
   "cell_type": "markdown",
   "metadata": {},
   "source": [
    "### 10. Use this notebook to complete `train.py`\n",
    "Use the template file attached in the Resources folder to write a script that runs the steps above to create a database and export a model based on a new dataset specified by the user."
   ]
  },
  {
   "cell_type": "code",
   "execution_count": null,
   "metadata": {},
   "outputs": [],
   "source": []
  }
 ],
 "metadata": {
  "kernelspec": {
   "display_name": "Python 3",
   "language": "python",
   "name": "python3"
  },
  "language_info": {
   "codemirror_mode": {
    "name": "ipython",
    "version": 3
   },
   "file_extension": ".py",
   "mimetype": "text/x-python",
   "name": "python",
   "nbconvert_exporter": "python",
   "pygments_lexer": "ipython3",
   "version": "3.6.3"
  }
 },
 "nbformat": 4,
 "nbformat_minor": 2
}
